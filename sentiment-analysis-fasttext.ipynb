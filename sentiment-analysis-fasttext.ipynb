{
 "cells": [
  {
   "cell_type": "markdown",
   "id": "55c0563a",
   "metadata": {},
   "source": [
    "## Required Libraries"
   ]
  },
  {
   "cell_type": "code",
   "execution_count": 1,
   "id": "55be684d",
   "metadata": {},
   "outputs": [],
   "source": [
    "import re\n",
    "import emoji\n",
    "import pandas\n",
    "import numpy\n",
    "import csv\n",
    "import contractions\n",
    "import fasttext\n",
    "\n",
    "import matplotlib.pyplot as plt\n",
    "%matplotlib inline\n",
    "plt.style.use(\"ggplot\")"
   ]
  },
  {
   "cell_type": "markdown",
   "id": "c6975199",
   "metadata": {},
   "source": [
    "## Dataset"
   ]
  },
  {
   "cell_type": "code",
   "execution_count": 2,
   "id": "b346d2d3",
   "metadata": {},
   "outputs": [],
   "source": [
    "tweet_data = pandas.read_csv(\"tweet_data.csv\")"
   ]
  },
  {
   "cell_type": "code",
   "execution_count": 3,
   "id": "320341a4",
   "metadata": {},
   "outputs": [
    {
     "data": {
      "text/html": [
       "<div>\n",
       "<style scoped>\n",
       "    .dataframe tbody tr th:only-of-type {\n",
       "        vertical-align: middle;\n",
       "    }\n",
       "\n",
       "    .dataframe tbody tr th {\n",
       "        vertical-align: top;\n",
       "    }\n",
       "\n",
       "    .dataframe thead th {\n",
       "        text-align: right;\n",
       "    }\n",
       "</style>\n",
       "<table border=\"1\" class=\"dataframe\">\n",
       "  <thead>\n",
       "    <tr style=\"text-align: right;\">\n",
       "      <th></th>\n",
       "      <th>textID</th>\n",
       "      <th>tweet_text</th>\n",
       "      <th>sentiment</th>\n",
       "    </tr>\n",
       "  </thead>\n",
       "  <tbody>\n",
       "    <tr>\n",
       "      <th>0</th>\n",
       "      <td>1956967666</td>\n",
       "      <td>Layin n bed with a headache  ughhhh...waitin o...</td>\n",
       "      <td>negative</td>\n",
       "    </tr>\n",
       "    <tr>\n",
       "      <th>1</th>\n",
       "      <td>1956967696</td>\n",
       "      <td>Funeral ceremony...gloomy friday...</td>\n",
       "      <td>negative</td>\n",
       "    </tr>\n",
       "    <tr>\n",
       "      <th>2</th>\n",
       "      <td>1956967789</td>\n",
       "      <td>wants to hang out with friends SOON!</td>\n",
       "      <td>positive</td>\n",
       "    </tr>\n",
       "    <tr>\n",
       "      <th>3</th>\n",
       "      <td>1956968477</td>\n",
       "      <td>Re-pinging @ghostridah14: why didn't you go to...</td>\n",
       "      <td>negative</td>\n",
       "    </tr>\n",
       "    <tr>\n",
       "      <th>4</th>\n",
       "      <td>1956968636</td>\n",
       "      <td>Hmmm. http://www.djhero.com/ is down</td>\n",
       "      <td>negative</td>\n",
       "    </tr>\n",
       "  </tbody>\n",
       "</table>\n",
       "</div>"
      ],
      "text/plain": [
       "       textID                                         tweet_text sentiment\n",
       "0  1956967666  Layin n bed with a headache  ughhhh...waitin o...  negative\n",
       "1  1956967696                Funeral ceremony...gloomy friday...  negative\n",
       "2  1956967789               wants to hang out with friends SOON!  positive\n",
       "3  1956968477  Re-pinging @ghostridah14: why didn't you go to...  negative\n",
       "4  1956968636               Hmmm. http://www.djhero.com/ is down  negative"
      ]
     },
     "execution_count": 3,
     "metadata": {},
     "output_type": "execute_result"
    }
   ],
   "source": [
    "tweet_data.head(5)"
   ]
  },
  {
   "cell_type": "code",
   "execution_count": 4,
   "id": "61afa572",
   "metadata": {},
   "outputs": [],
   "source": [
    "# Drop NAs\n",
    "tweet_data = tweet_data.dropna()"
   ]
  },
  {
   "cell_type": "markdown",
   "id": "a219f0cd",
   "metadata": {},
   "source": [
    "## Data Visualization"
   ]
  },
  {
   "cell_type": "code",
   "execution_count": 5,
   "id": "5105199c",
   "metadata": {},
   "outputs": [
    {
     "data": {
      "text/plain": [
       "positive    9897\n",
       "negative    8830\n",
       "Name: sentiment, dtype: int64"
      ]
     },
     "execution_count": 5,
     "metadata": {},
     "output_type": "execute_result"
    }
   ],
   "source": [
    "counts = tweet_data['sentiment'].value_counts()\n",
    "counts"
   ]
  },
  {
   "cell_type": "code",
   "execution_count": 6,
   "id": "79a0b612",
   "metadata": {},
   "outputs": [
    {
     "data": {
      "image/png": "[encoded data removed]",
      "text/plain": [
       "<Figure size 432x288 with 1 Axes>"
      ]
     },
     "metadata": {},
     "output_type": "display_data"
    }
   ],
   "source": [
    "sentiments = ['positive', 'negative']\n",
    "counts = [counts['positive'], counts['negative']]\n",
    "\n",
    "fig = plt.figure()\n",
    "ax = fig.add_axes([0,0,1,1])\n",
    "ax.bar(sentiments,counts)\n",
    "plt.show()"
   ]
  },
  {
   "cell_type": "markdown",
   "id": "b6e5b115",
   "metadata": {},
   "source": [
    "## Preprocessing"
   ]
  },
  {
   "cell_type": "code",
   "execution_count": 7,
   "id": "6f5e5972",
   "metadata": {},
   "outputs": [],
   "source": [
    "# Handling the retweet(RT) tag\n",
    "def replace_retweet(tweet, default_replace=\"\"):\n",
    "    tweet = re.sub('RT\\s+', default_replace, tweet)\n",
    "    return tweet\n",
    "\n",
    "# Handling user tags(@)\n",
    "def replace_user(tweet, default_replace=\"user\"):\n",
    "    tweet = re.sub('\\B@\\w+', default_replace, tweet)\n",
    "    return tweet\n",
    "\n",
    "# Replace emojis with meaningful text\n",
    "def demojize(tweet):\n",
    "    tweet = emoji.demojize(tweet)\n",
    "    return tweet\n",
    "\n",
    "def replace_url(tweet, default_replace=\"\"):\n",
    "    tweet = re.sub('(http|https):\\/\\/\\S+', default_replace, tweet)\n",
    "    return tweet\n",
    "\n",
    "# Remove hashtag symbol(#)\n",
    "def replace_hashtag(tweet, default_replace=\"\"):\n",
    "    tweet = re.sub('#+', default_replace, tweet)\n",
    "    return tweet\n",
    "\n",
    "def to_lowercase(tweet):\n",
    "  tweet = tweet.lower()\n",
    "  return tweet\n",
    "\n",
    "def word_repetition(tweet):\n",
    "  tweet = re.sub(r'(.)\\1+', r'\\1\\1', tweet)\n",
    "  return tweet\n",
    "\n",
    "def punct_repetition(tweet, default_replace=\"\"):\n",
    "  tweet = re.sub(r'[\\?\\.\\!]+(?=[\\?\\.\\!])', default_replace, tweet)\n",
    "  return tweet\n",
    "\n",
    "# Replace contractions with their extended forms\n",
    "def fix_contractions(tweet):\n",
    "  tweet = contractions.fix(tweet)\n",
    "  return tweet"
   ]
  },
  {
   "cell_type": "code",
   "execution_count": 8,
   "id": "16c6d202",
   "metadata": {},
   "outputs": [],
   "source": [
    "def preprocessor(tweet, verbose=False):\n",
    "    if verbose: print(\"Initial tweet: {}\".format(tweet))\n",
    "\n",
    "    ## Twitter Features\n",
    "    tweet = replace_retweet(tweet) # replace retweet\n",
    "    tweet = replace_user(tweet, \"\") # replace user tag\n",
    "    tweet = replace_url(tweet) # replace url\n",
    "    tweet = replace_hashtag(tweet) # replace hashtag\n",
    "    if verbose: print(\"Post Twitter processing tweet: {}\".format(tweet))\n",
    "\n",
    "    ## Word Features\n",
    "    tweet = to_lowercase(tweet) # lower case\n",
    "    tweet = fix_contractions(tweet) # replace contractions\n",
    "    tweet = punct_repetition(tweet) # replace punctuation repetition\n",
    "    tweet = word_repetition(tweet) # replace word repetition\n",
    "    tweet = demojize(tweet) # replace emojis\n",
    "    if verbose: print(\"Post Word processing tweet: {}\".format(tweet))\n",
    "\n",
    "    return tweet"
   ]
  },
  {
   "cell_type": "code",
   "execution_count": 9,
   "id": "398b2257",
   "metadata": {},
   "outputs": [],
   "source": [
    "tweet_data['processed_text'] = tweet_data['tweet_text'].apply(preprocessor)"
   ]
  },
  {
   "cell_type": "code",
   "execution_count": 10,
   "id": "b672fe9c",
   "metadata": {},
   "outputs": [],
   "source": [
    "# Drop extra columns\n",
    "tweet_data = tweet_data.drop(['textID', 'tweet_text'], axis=1)"
   ]
  },
  {
   "cell_type": "code",
   "execution_count": 11,
   "id": "c0f90964",
   "metadata": {},
   "outputs": [],
   "source": [
    "# Add __label__ tags\n",
    "tweet_data['sentiment']=['__label__'+s.replace(' or ', '$').replace(', or ','$').replace(',','$').replace(' ','_').replace(',','__label__').replace('$$','$').replace('$',' __label__').replace('___','__') for s in tweet_data['sentiment']]\n",
    "tweet_data['processed_text']= tweet_data['processed_text'].replace('\\n',' ', regex=True).replace('\\t',' ', regex=True)"
   ]
  },
  {
   "cell_type": "code",
   "execution_count": 12,
   "id": "6bbbc0cd",
   "metadata": {},
   "outputs": [
    {
     "data": {
      "text/html": [
       "<div>\n",
       "<style scoped>\n",
       "    .dataframe tbody tr th:only-of-type {\n",
       "        vertical-align: middle;\n",
       "    }\n",
       "\n",
       "    .dataframe tbody tr th {\n",
       "        vertical-align: top;\n",
       "    }\n",
       "\n",
       "    .dataframe thead th {\n",
       "        text-align: right;\n",
       "    }\n",
       "</style>\n",
       "<table border=\"1\" class=\"dataframe\">\n",
       "  <thead>\n",
       "    <tr style=\"text-align: right;\">\n",
       "      <th></th>\n",
       "      <th>sentiment</th>\n",
       "      <th>processed_text</th>\n",
       "    </tr>\n",
       "  </thead>\n",
       "  <tbody>\n",
       "    <tr>\n",
       "      <th>0</th>\n",
       "      <td>__label__negative</td>\n",
       "      <td>layin n bed with a headache  ughh.waitin on yo...</td>\n",
       "    </tr>\n",
       "    <tr>\n",
       "      <th>1</th>\n",
       "      <td>__label__negative</td>\n",
       "      <td>funeral ceremony.gloomy friday.</td>\n",
       "    </tr>\n",
       "    <tr>\n",
       "      <th>2</th>\n",
       "      <td>__label__positive</td>\n",
       "      <td>wants to hang out with friends soon!</td>\n",
       "    </tr>\n",
       "    <tr>\n",
       "      <th>3</th>\n",
       "      <td>__label__negative</td>\n",
       "      <td>re-pinging : why did not you go to prom? becau...</td>\n",
       "    </tr>\n",
       "    <tr>\n",
       "      <th>4</th>\n",
       "      <td>__label__negative</td>\n",
       "      <td>hmm.  is down</td>\n",
       "    </tr>\n",
       "  </tbody>\n",
       "</table>\n",
       "</div>"
      ],
      "text/plain": [
       "           sentiment                                     processed_text\n",
       "0  __label__negative  layin n bed with a headache  ughh.waitin on yo...\n",
       "1  __label__negative                    funeral ceremony.gloomy friday.\n",
       "2  __label__positive               wants to hang out with friends soon!\n",
       "3  __label__negative  re-pinging : why did not you go to prom? becau...\n",
       "4  __label__negative                                      hmm.  is down"
      ]
     },
     "execution_count": 12,
     "metadata": {},
     "output_type": "execute_result"
    }
   ],
   "source": [
    "tweet_data.head(5)"
   ]
  },
  {
   "cell_type": "markdown",
   "id": "980b9bb4",
   "metadata": {},
   "source": [
    "## Split dataset\n",
    "\n",
    "Train dataset size = 18727*75% = 14045\n",
    "\n",
    "Test dataset size = 18727-14045 = 4682"
   ]
  },
  {
   "cell_type": "code",
   "execution_count": 13,
   "id": "09af54b2",
   "metadata": {},
   "outputs": [],
   "source": [
    "tweet_data.head(14045).to_csv('tweet_data_fasttext.train.txt', index=False, sep=' ', header=False, quoting=csv.QUOTE_NONE, quotechar=\"\", escapechar=\" \", encoding = 'utf-8')\n",
    "tweet_data.tail(4682).to_csv('tweet_data_fasttext.test.txt', index=False, sep=' ', header=False, quoting=csv.QUOTE_NONE, quotechar=\"\", escapechar=\" \", encoding = 'utf-8')"
   ]
  },
  {
   "cell_type": "markdown",
   "id": "98707aba",
   "metadata": {},
   "source": [
    "## Model training and prediction"
   ]
  },
  {
   "cell_type": "code",
   "execution_count": 14,
   "id": "1fe3b621",
   "metadata": {},
   "outputs": [],
   "source": [
    "# Train models using fastText and autotune hyperparameters\n",
    "model = fasttext.train_supervised('tweet_data_fasttext.train.txt')"
   ]
  },
  {
   "cell_type": "code",
   "execution_count": 15,
   "id": "38f83704",
   "metadata": {},
   "outputs": [],
   "source": [
    "prediction = model.test_label('tweet_data_fasttext.test.txt')"
   ]
  },
  {
   "cell_type": "markdown",
   "id": "ad247e97",
   "metadata": {},
   "source": [
    "## Model evaluation"
   ]
  },
  {
   "cell_type": "code",
   "execution_count": 16,
   "id": "c9f378be",
   "metadata": {},
   "outputs": [],
   "source": [
    "def calculate_accuracy(model):\n",
    "    #Getting data from a CSV\n",
    "    labels = tweet_data['sentiment']\n",
    "    tweets = tweet_data['processed_text']\n",
    "    \n",
    "    total, correct = 0, 0\n",
    "    \n",
    "    for idx, value in tweets.iteritems():\n",
    "        #Predicting\n",
    "        prediction = model.predict(value, k=1)\n",
    "        \n",
    "        #Saving accuracy\n",
    "        total += 1\n",
    "        if(prediction[0][0] == labels[idx]):\n",
    "            correct += 1\n",
    "            \n",
    "    accuracy = correct / total\n",
    "    print('accuracy = ' + 'correct/total = '+ str(correct) + '/' + str(total) + ' = ' + str(accuracy) + '\\n')"
   ]
  },
  {
   "cell_type": "code",
   "execution_count": 17,
   "id": "679706f0",
   "metadata": {},
   "outputs": [],
   "source": [
    "def evaluate_model(dict):\n",
    "    label_0 = dict['__label__negative']\n",
    "    label_1 = dict['__label__positive']\n",
    "    \n",
    "    p0 = label_0['precision']\n",
    "    r0 = label_0['recall']\n",
    "    f0 = label_0['f1score']\n",
    "    p1 = label_1['precision']\n",
    "    r1 = label_1['recall']\n",
    "    f1 = label_1['f1score']\n",
    "    \n",
    "    macro_precision = (p0 + p1) / 2\n",
    "    macro_recall = (r0 + r1) / 2\n",
    "    macro_f1 = (f0+ f1) / 2\n",
    "    \n",
    "    print('macro_precision = ' + str(macro_precision))\n",
    "    print('macro_recall = ' + str(macro_recall))\n",
    "    print('macro_f1 = ' + str(macro_f1))"
   ]
  },
  {
   "cell_type": "code",
   "execution_count": 18,
   "id": "80e435d9",
   "metadata": {},
   "outputs": [
    {
     "name": "stdout",
     "output_type": "stream",
     "text": [
      "macro_precision = 0.7147043421371386\n",
      "macro_recall = 0.824614871740885\n",
      "macro_f1 = 0.749833123275395\n",
      "accuracy = correct/total = 17391/18727 = 0.928659155230416\n",
      "\n"
     ]
    }
   ],
   "source": [
    "evaluate_model(prediction)\n",
    "calculate_accuracy(model)"
   ]
  }
 ],
 "metadata": {
  "kernelspec": {
   "display_name": "Python 3 (ipykernel)",
   "language": "python",
   "name": "python3"
  },
  "language_info": {
   "codemirror_mode": {
    "name": "ipython",
    "version": 3
   },
   "file_extension": ".py",
   "mimetype": "text/x-python",
   "name": "python",
   "nbconvert_exporter": "python",
   "pygments_lexer": "ipython3",
   "version": "3.9.7"
  }
 },
 "nbformat": 4,
 "nbformat_minor": 5
}
